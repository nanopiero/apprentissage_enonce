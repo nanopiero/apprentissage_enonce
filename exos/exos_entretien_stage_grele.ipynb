{
  "nbformat": 4,
  "nbformat_minor": 0,
  "metadata": {
    "colab": {
      "provenance": []
    },
    "kernelspec": {
      "name": "python3",
      "display_name": "Python 3"
    },
    "accelerator": "GPU",
    "gpuClass": "standard"
  },
  "cells": [
    {
      "cell_type": "markdown",
      "source": [
        "#Entretien technique - décembre 2024"
      ],
      "metadata": {
        "id": "XptqD6dlSznc"
      }
    },
    {
      "cell_type": "markdown",
      "source": [
        "**Consignes :**\n",
        "\n",
        "- vous pouvez utiliser n'importe quelle ressource en ligne pour aborder les exercices.\n",
        "- Les exercices sont indépendants, alors ne bloquez pas 5 minutes sur une question.\n",
        "- Soignez votre code au mieux. Cependant, il n'est pas nécessaire de le commenter dans le détail : soyez concis.\n",
        "- **A la fin des 20 minutes, envoyez-nous par mail une copie du calepin.**"
      ],
      "metadata": {
        "id": "_CACBFsndOCo"
      }
    },
    {
      "cell_type": "markdown",
      "source": [
        "**Clonage du dépôt git :**"
      ],
      "metadata": {
        "id": "sm4Teg6KSrHV"
      }
    },
    {
      "cell_type": "code",
      "source": [
        "! git clone https://github.com/nanopiero/apprentissage_enonce.git"
      ],
      "metadata": {
        "id": "s5yFinolSveq"
      },
      "execution_count": null,
      "outputs": []
    },
    {
      "cell_type": "code",
      "source": [
        "! ls apprentissage_enonce/data\n",
        "\n",
        "# normalement: annotations.json  image.jpg  temp_pointe_du_raz.csv"
      ],
      "metadata": {
        "id": "PILoEdY-UaIl"
      },
      "execution_count": null,
      "outputs": []
    },
    {
      "cell_type": "markdown",
      "source": [
        "\\\\\n",
        "\n",
        "**Exo n°1 (bibliothèque numpy, fonctions)**"
      ],
      "metadata": {
        "id": "gwINWkvtW5Wt"
      }
    },
    {
      "cell_type": "markdown",
      "source": [
        "**A.** En modifiant le code suivant, construire une matrice *M* de 10000 lignes et 100 colonnes dont les composantes sont échantillonnées au hasard dans l'intervalle [5 , 10] (loi uniforme)."
      ],
      "metadata": {
        "id": "q0U8SU_nXp_f"
      }
    },
    {
      "cell_type": "code",
      "source": [
        "import numpy as np\n",
        "M = np.random.rand(5,2)\n",
        "print(M)"
      ],
      "metadata": {
        "id": "Dtw_661bY-bT"
      },
      "execution_count": null,
      "outputs": []
    },
    {
      "cell_type": "markdown",
      "source": [
        "**B.** Définir une fonction *norme_vecteur* qui prend en entrée un vecteur et en calcule la norme euclidienne à partir des fonctions *np.sum* et *np.sqrt*."
      ],
      "metadata": {
        "id": "MJe-E504Xrri"
      }
    },
    {
      "cell_type": "code",
      "source": [
        "def norme_vecteur(x):\n",
        "  ...\n",
        "\n",
        "# Test\n",
        "norme_vecteur(...)"
      ],
      "metadata": {
        "id": "MWuIfjMOhHY_"
      },
      "execution_count": null,
      "outputs": []
    },
    {
      "cell_type": "markdown",
      "source": [
        "**C.** Parcourir les lignes de *M* et leur appliquer la fonction *norme_vecteur*. Stocker les normes dans une liste."
      ],
      "metadata": {
        "id": "9Y4jmf0EXsE3"
      }
    },
    {
      "cell_type": "code",
      "source": [
        "L = []\n",
        "\n",
        "..."
      ],
      "metadata": {
        "id": "UnC8An2ybY98"
      },
      "execution_count": null,
      "outputs": []
    },
    {
      "cell_type": "markdown",
      "source": [
        "\\\\\n",
        "\n",
        "**Exo n°2 (code objet, traitement d'image)**"
      ],
      "metadata": {
        "id": "1KLoEYWZW-5Q"
      }
    },
    {
      "cell_type": "markdown",
      "source": [
        "**A.** Visualiser *data/image.jpg* à l'aide de la méthode display_image."
      ],
      "metadata": {
        "id": "qO7Yj-IUcFAC"
      }
    },
    {
      "cell_type": "code",
      "source": [
        "from PIL import Image\n",
        "import numpy as np\n",
        "import matplotlib.pyplot as plt\n",
        "import copy\n",
        "\n",
        "class ImageTransform:\n",
        "    def __init__(self, image_path):\n",
        "        self.image = Image.open(image_path)\n",
        "\n",
        "    def get_numpy_channels(self):\n",
        "        return np.array(self.image)\n",
        "\n",
        "    def set_channels(self, np_array):\n",
        "        self.image = Image.fromarray(np_array)\n",
        "\n",
        "    def display_image(self, width_cm=15):\n",
        "        dpi = 96  # Default DPI for matplotlib\n",
        "        width_inches = width_cm / 2.54\n",
        "        height_inches = (self.image.height / self.image.width) * width_inches\n",
        "        fig, ax = plt.subplots(figsize=(width_inches, height_inches), dpi=dpi)\n",
        "        ax.imshow(self.image)\n",
        "        ax.axis('off')\n",
        "        plt.show()\n",
        "\n",
        "    def switch_channels(self, channel_tuple):\n",
        "        # A compléter\n",
        "        pass\n",
        "\n",
        "\n",
        "# Example Usage\n",
        "# image_transform = ImageTransform('path/to/image.jpg')\n",
        "# image_transform.display_image()"
      ],
      "metadata": {
        "id": "fOOoiWN7npO_"
      },
      "execution_count": null,
      "outputs": []
    },
    {
      "cell_type": "markdown",
      "source": [
        "**B.** Compléter la méthode \"switch_channel\" pour intervertir les canaux rouge et bleu. Visualiser.   "
      ],
      "metadata": {
        "id": "O5ie6Q6HcftM"
      }
    },
    {
      "cell_type": "code",
      "source": [],
      "metadata": {
        "id": "CYAbiNY2MbB-"
      },
      "execution_count": null,
      "outputs": []
    },
    {
      "cell_type": "markdown",
      "source": [
        "\\\\\n",
        "\n",
        "**Exo n°3 (csv, pandas, statistiques de base)**"
      ],
      "metadata": {
        "id": "Qt1Wy0TrQeGT"
      }
    },
    {
      "cell_type": "markdown",
      "source": [
        "**A.** Charger temp_pointe_du_raz.csv (la bibliothèque pandas est conseillée). Convertir les températures en degré Celsius."
      ],
      "metadata": {
        "id": "P6l3YiygU-Vy"
      }
    },
    {
      "cell_type": "code",
      "source": [
        "..."
      ],
      "metadata": {
        "id": "gCW8JiPQork_"
      },
      "execution_count": null,
      "outputs": []
    },
    {
      "cell_type": "code",
      "source": [
        "..."
      ],
      "metadata": {
        "id": "1ZomSgWnqY9v"
      },
      "execution_count": null,
      "outputs": []
    },
    {
      "cell_type": "markdown",
      "source": [
        "**B.** Tracer la série temporelle des températures."
      ],
      "metadata": {
        "id": "j_jx3Z8dWcrC"
      }
    },
    {
      "cell_type": "code",
      "source": [
        "..."
      ],
      "metadata": {
        "id": "81eEuzj5qj6P"
      },
      "execution_count": null,
      "outputs": []
    },
    {
      "cell_type": "markdown",
      "source": [
        "**C.** Déterminer la moyenne, la médiane, et l'intervalle interquantile de la série statistique."
      ],
      "metadata": {
        "id": "tZuvPKGVV36w"
      }
    },
    {
      "cell_type": "code",
      "source": [
        "..."
      ],
      "metadata": {
        "id": "qz1RGBKyqp2_"
      },
      "execution_count": null,
      "outputs": []
    },
    {
      "cell_type": "markdown",
      "source": [
        "\\\\\n",
        "\n",
        "\n",
        "**Exo n°4 (json, dictionnaires, base de données)**"
      ],
      "metadata": {
        "id": "QJ578x0sXQdx"
      }
    },
    {
      "cell_type": "markdown",
      "source": [
        "**A.** Chargez le json *data/annotations.json* dans un dictionnaire python."
      ],
      "metadata": {
        "id": "CdF2H29HeH-4"
      }
    },
    {
      "cell_type": "code",
      "source": [
        "import json\n",
        "..."
      ],
      "metadata": {
        "id": "66YMr9Vm7d8t"
      },
      "execution_count": null,
      "outputs": []
    },
    {
      "cell_type": "markdown",
      "source": [
        "**B.** Ce dictionnaire associe des noms d'images (clefs) à des métadonnées ('filename', 'size', 'file_attributes') et des annotations (dans 'regions').\n",
        "La plupart des images n'ont pas été annotées. Dans ce cas 'regions' est une liste vide. \\\n",
        "Supprimer toutes les clefs du dictionnaire pour lesquelles la sous-clef 'regions' est vide. Combien en reste-t-il ?   "
      ],
      "metadata": {
        "id": "CGCAq_9f719O"
      }
    },
    {
      "cell_type": "code",
      "source": [
        "..."
      ],
      "metadata": {
        "id": "NIZ8k8Bw8umd"
      },
      "execution_count": null,
      "outputs": []
    },
    {
      "cell_type": "markdown",
      "source": [
        "**C.** Importer la fonction *simplify_annotations* du module exos/utile.py. L'appliquer aux données."
      ],
      "metadata": {
        "id": "jzIEsfhQf5Q2"
      }
    },
    {
      "cell_type": "code",
      "source": [
        "..."
      ],
      "metadata": {
        "id": "R-vm5blZD7Al"
      },
      "execution_count": null,
      "outputs": []
    },
    {
      "cell_type": "markdown",
      "source": [
        "**D.** Stocker les données contenues dans la sortie de *simplify_annotations* dans une base de données sqlite locale. Cette base doit contenir trois colonnes 'name_image', 'size' et 'regions'. Chaque ligne correspondra à une image."
      ],
      "metadata": {
        "id": "4GAqLfKTeef5"
      }
    },
    {
      "cell_type": "code",
      "source": [
        "import sqlite3\n",
        "\n",
        "\n",
        "..."
      ],
      "metadata": {
        "id": "s06bEVE-IAe-"
      },
      "execution_count": null,
      "outputs": []
    }
  ]
}